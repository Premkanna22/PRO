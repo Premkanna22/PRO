{
  "nbformat": 4,
  "nbformat_minor": 0,
  "metadata": {
    "colab": {
      "provenance": []
    },
    "kernelspec": {
      "name": "python3",
      "display_name": "Python 3"
    },
    "language_info": {
      "name": "python"
    }
  },
  "cells": [
    {
      "cell_type": "code",
      "execution_count": 1,
      "metadata": {
        "colab": {
          "base_uri": "https://localhost:8080/"
        },
        "id": "Fkp0oo3Y2fkV",
        "outputId": "0f5e49b0-e4fd-46d9-9257-4eb624b186b6"
      },
      "outputs": [
        {
          "output_type": "stream",
          "name": "stdout",
          "text": [
            "Requirement already satisfied: pandas in /usr/local/lib/python3.10/dist-packages (1.5.3)\n",
            "Requirement already satisfied: python-dateutil>=2.8.1 in /usr/local/lib/python3.10/dist-packages (from pandas) (2.8.2)\n",
            "Requirement already satisfied: pytz>=2020.1 in /usr/local/lib/python3.10/dist-packages (from pandas) (2023.3.post1)\n",
            "Requirement already satisfied: numpy>=1.21.0 in /usr/local/lib/python3.10/dist-packages (from pandas) (1.23.5)\n",
            "Requirement already satisfied: six>=1.5 in /usr/local/lib/python3.10/dist-packages (from python-dateutil>=2.8.1->pandas) (1.16.0)\n"
          ]
        }
      ],
      "source": [
        "pip install pandas\n"
      ]
    },
    {
      "cell_type": "code",
      "source": [
        "import pandas as pd\n",
        "\n",
        "# Load the CSV file into a DataFrame\n",
        "file_path = 'books.csv'\n",
        "data = pd.read_csv(file_path)\n",
        "\n",
        "# Get the number of rows and columns\n",
        "num_rows, num_cols = data.shape\n",
        "\n",
        "print(f\"The number of rows in the dataset is: {num_rows}\")\n",
        "print(f\"The number of columns in the dataset is: {num_cols}\")\n"
      ],
      "metadata": {
        "colab": {
          "base_uri": "https://localhost:8080/"
        },
        "id": "DZje5qij2nr2",
        "outputId": "6640804e-ae50-44c0-921f-e554effa4366"
      },
      "execution_count": 2,
      "outputs": [
        {
          "output_type": "stream",
          "name": "stdout",
          "text": [
            "The number of rows in the dataset is: 399\n",
            "The number of columns in the dataset is: 24\n"
          ]
        }
      ]
    },
    {
      "cell_type": "code",
      "source": [
        "# Count the number of books without an original title\n",
        "books_without_original_title = data[data['original_title'].isnull() | (data['original_title'] == '')]\n",
        "num_books_without_original_title = len(books_without_original_title)\n",
        "\n",
        "print(f\"The number of books without an original title is: {num_books_without_original_title}\")"
      ],
      "metadata": {
        "colab": {
          "base_uri": "https://localhost:8080/"
        },
        "id": "m8bJpibW23-E",
        "outputId": "bd08d757-46c6-4f6d-cc07-108df43af336"
      },
      "execution_count": 3,
      "outputs": [
        {
          "output_type": "stream",
          "name": "stdout",
          "text": [
            "The number of books without an original title is: 36\n"
          ]
        }
      ]
    },
    {
      "cell_type": "code",
      "source": [
        "# Remove rows with null values in the original_title column\n",
        "data_cleaned = data.dropna(subset=['original_title'])\n",
        "\n",
        "# Count the number of unique books based on book_id\n",
        "unique_books_count = data_cleaned['book_id'].nunique()\n",
        "\n",
        "print(f\"The number of unique books (after removing null original titles) is: {unique_books_count}\")"
      ],
      "metadata": {
        "colab": {
          "base_uri": "https://localhost:8080/"
        },
        "id": "Kcw0WyI-3Abh",
        "outputId": "2974987a-46c4-4c40-d22a-ab16adeaad7c"
      },
      "execution_count": 4,
      "outputs": [
        {
          "output_type": "stream",
          "name": "stdout",
          "text": [
            "The number of unique books (after removing null original titles) is: 363\n"
          ]
        }
      ]
    },
    {
      "cell_type": "code",
      "source": [
        "# Calculate the average rating\n",
        "average_rating = data['average_rating'].mean()\n",
        "\n",
        "print(f\"The average rating of all the books in the dataset is: {average_rating:.2f}\")"
      ],
      "metadata": {
        "colab": {
          "base_uri": "https://localhost:8080/"
        },
        "id": "I3wwYren3LlN",
        "outputId": "ee3e6ca2-07c4-4f03-e93d-49ca23e89d60"
      },
      "execution_count": 5,
      "outputs": [
        {
          "output_type": "stream",
          "name": "stdout",
          "text": [
            "The average rating of all the books in the dataset is: 3.98\n"
          ]
        }
      ]
    },
    {
      "cell_type": "code",
      "source": [
        "# Filter books published in the year 2000\n",
        "books_published_2000 = data[data['original_publication_year'] == 2000]\n",
        "num_books_published_2000 = len(books_published_2000)\n",
        "\n",
        "print(f\"The number of books published in the year 2000 is: {num_books_published_2000}\")"
      ],
      "metadata": {
        "colab": {
          "base_uri": "https://localhost:8080/"
        },
        "id": "pRYBK2dJ3T_I",
        "outputId": "083e3a13-f6dc-4e90-8bb8-64b0e1bd750d"
      },
      "execution_count": 6,
      "outputs": [
        {
          "output_type": "stream",
          "name": "stdout",
          "text": [
            "The number of books published in the year 2000 is: 8\n"
          ]
        }
      ]
    },
    {
      "cell_type": "code",
      "source": [
        "# Find the book title with the maximum number of ratings\n",
        "max_ratings_book = data[data['work_ratings_count'] == data['work_ratings_count'].max()]\n",
        "\n",
        "book_title_max_ratings = max_ratings_book['original_title'].values[0]\n",
        "\n",
        "print(f\"The book with the maximum number of ratings is: {book_title_max_ratings}\")"
      ],
      "metadata": {
        "colab": {
          "base_uri": "https://localhost:8080/"
        },
        "id": "kKm333TT3d3p",
        "outputId": "6be7911d-0ab0-49a2-b05e-ef16b79ab966"
      },
      "execution_count": 7,
      "outputs": [
        {
          "output_type": "stream",
          "name": "stdout",
          "text": [
            "The book with the maximum number of ratings is: Het Achterhuis: Dagboekbrieven 14 juni 1942 - 1 augustus 1944\n"
          ]
        }
      ]
    },
    {
      "cell_type": "code",
      "source": [
        "# Define the buckets\n",
        "import matplotlib.pyplot as plt\n",
        "buckets = [0, 0.5, 1.0, 1.5, 2.0, 2.5, 3.0, 3.5, 4.0, 4.5, 5.0]\n",
        "\n",
        "# Categorize the average_rating into buckets\n",
        "data['rating_bucket'] = pd.cut(data['average_rating'], bins=buckets, right=False)\n",
        "\n",
        "# Count the number of books in each bucket\n",
        "books_in_buckets = data['rating_bucket'].value_counts().sort_index()\n",
        "\n",
        "# Plotting the bar graph\n",
        "plt.figure(figsize=(8, 6))\n",
        "books_in_buckets.plot(kind='bar', color='skyblue')\n",
        "plt.title('Total Number of Books in Each Rating Bucket')\n",
        "plt.xlabel('Rating Buckets')\n",
        "plt.ylabel('Number of Books')\n",
        "plt.xticks(rotation=45)\n",
        "plt.grid(axis='y')\n",
        "plt.tight_layout()\n",
        "plt.show()"
      ],
      "metadata": {
        "colab": {
          "base_uri": "https://localhost:8080/",
          "height": 607
        },
        "id": "9-Xgmtqx3nYU",
        "outputId": "9dfb9dd3-c2a9-4a39-a0d0-fbfeafb0bc70"
      },
      "execution_count": 9,
      "outputs": [
        {
          "output_type": "display_data",
          "data": {
            "text/plain": [
              "<Figure size 800x600 with 1 Axes>"
            ],
            "image/png": "[encoded data removed]"
          },
          "metadata": {}
        }
      ]
    }
  ]
}